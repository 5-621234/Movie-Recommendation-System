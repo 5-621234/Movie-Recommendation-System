{
  "nbformat": 4,
  "nbformat_minor": 0,
  "metadata": {
    "colab": {
      "name": "Recommendation System",
      "provenance": [],
      "authorship_tag": "ABX9TyPBCrcCkypf5vGRGSPlwDUc",
      "include_colab_link": true
    },
    "kernelspec": {
      "name": "python3",
      "display_name": "Python 3"
    },
    "language_info": {
      "name": "python"
    }
  },
  "cells": [
    {
      "cell_type": "markdown",
      "metadata": {
        "id": "view-in-github",
        "colab_type": "text"
      },
      "source": [
        "<a href=\"https://colab.research.google.com/github/5-621234/Movie-Recommendation-System/blob/main/Recommendation_System.ipynb\" target=\"_parent\"><img src=\"https://colab.research.google.com/assets/colab-badge.svg\" alt=\"Open In Colab\"/></a>"
      ]
    },
    {
      "cell_type": "code",
      "execution_count": null,
      "metadata": {
        "id": "2X8uFYLsU-ZJ"
      },
      "outputs": [],
      "source": [
        "import numpy as np\n",
        "import pandas as pd\n",
        "#To get the closet match of the value(movie)\n",
        "import difflib\n",
        "#To convert the text data in Meaning full nos\n",
        "from sklearn.feature_extraction.text import TfidfVectorizer\n",
        "from sklearn.metrics.pairwise import cosine_similarity\n"
      ]
    },
    {
      "cell_type": "markdown",
      "source": [
        "Data Preprocessing"
      ],
      "metadata": {
        "id": "mun0jiPWSGwQ"
      }
    },
    {
      "cell_type": "code",
      "source": [
        "movies_data= pd.read_csv('/content/movies.csv')"
      ],
      "metadata": {
        "id": "x_6jGegxSLe1"
      },
      "execution_count": null,
      "outputs": []
    },
    {
      "cell_type": "code",
      "source": [
        "# To print the first 5 rows of the dataframe\n",
        "movies_data.head()"
      ],
      "metadata": {
        "id": "qnWwZEcDSLkK"
      },
      "execution_count": null,
      "outputs": []
    },
    {
      "cell_type": "code",
      "source": [
        "# To find the number of rows & columns\n",
        "movies_data.shape"
      ],
      "metadata": {
        "id": "OLt9Y8WNUBtY"
      },
      "execution_count": null,
      "outputs": []
    },
    {
      "cell_type": "code",
      "source": [
        "selected_features = ['genres','keywords','tagline','cast','director']\n",
        "print(selected_features)"
      ],
      "metadata": {
        "id": "z_2nKl9TUQU9"
      },
      "execution_count": null,
      "outputs": []
    },
    {
      "cell_type": "code",
      "source": [
        "# To replace the null valuess with null string\n",
        "for feature in selected_features:\n",
        "  movies_data[feature] = movies_data[feature].fillna('')"
      ],
      "metadata": {
        "id": "8HM-muAVV-o5"
      },
      "execution_count": null,
      "outputs": []
    },
    {
      "cell_type": "code",
      "source": [
        "# To combine all the 5 selected features\n",
        "combine_feature = movies_data['genres']+' '+movies_data['keywords']+' '+movies_data['tagline']+' '+movies_data['cast']+' '+movies_data['director']\n",
        "print(combine_feature)"
      ],
      "metadata": {
        "id": "f6YF2fKvWD4z"
      },
      "execution_count": null,
      "outputs": []
    },
    {
      "cell_type": "code",
      "source": [
        "# To convert the text data to feature vectors to get the cosine similarity\n",
        "vectorizer = TfidfVectorizer()\n",
        "feature_vectors = vectorizer.fit_transform(combine_feature)\n",
        "print(feature_vectors)"
      ],
      "metadata": {
        "id": "I7CeF1U4XgAh"
      },
      "execution_count": null,
      "outputs": []
    },
    {
      "cell_type": "code",
      "source": [
        "# To get the similarity scores using cosine similarity\n",
        "similarity = cosine_similarity(feature_vectors)\n",
        "print(similarity)"
      ],
      "metadata": {
        "id": "rV3tZihsYwsX"
      },
      "execution_count": null,
      "outputs": []
    },
    {
      "cell_type": "code",
      "source": [
        "print(similarity.shape)\n",
        "#First one is index, second one is similarity score\n",
        "#Each movie is compared with all other movie"
      ],
      "metadata": {
        "id": "R7LMQcJhZaYE"
      },
      "execution_count": null,
      "outputs": []
    },
    {
      "cell_type": "markdown",
      "source": [
        "Getting a movie name\n"
      ],
      "metadata": {
        "id": "ze_M9SPLahsj"
      }
    },
    {
      "cell_type": "code",
      "source": [
        "# getting the movie name from the user\n",
        "movie_name = input('Enter Your Favourite Movie : ')"
      ],
      "metadata": {
        "id": "TiFQBawkZ38f"
      },
      "execution_count": null,
      "outputs": []
    },
    {
      "cell_type": "code",
      "source": [
        "# creating a list with all the movie names given in the dataset\n",
        "list_of_all_movies = movies_data['title'].tolist()\n",
        "print(list_of_all_movies)"
      ],
      "metadata": {
        "id": "p3aR1LFVbLOv"
      },
      "execution_count": null,
      "outputs": []
    },
    {
      "cell_type": "code",
      "source": [
        "# To find the close match for the movie name given by the user from the list of all movies\n",
        "close_match = difflib.get_close_matches(movie_name, list_of_all_movies)\n",
        "print(close_match)"
      ],
      "metadata": {
        "id": "ipO0t9ACbdgn"
      },
      "execution_count": null,
      "outputs": []
    },
    {
      "cell_type": "code",
      "source": [
        "closest_match = close_match[0]\n",
        "print(closest_match)"
      ],
      "metadata": {
        "id": "FO8Amjv6cGoh"
      },
      "execution_count": null,
      "outputs": []
    },
    {
      "cell_type": "code",
      "source": [
        "# To find the index of the movie with title\n",
        "\n",
        "index_of_the_movie = movies_data[movies_data.title == closest_match]['index'].values[0]\n",
        "print(index_of_the_movie)"
      ],
      "metadata": {
        "id": "3mtmTZDpcSBv"
      },
      "execution_count": null,
      "outputs": []
    },
    {
      "cell_type": "code",
      "source": [
        "# To get a list of similar movies\n",
        "# Using the similarity score\n",
        "#enumerate is used to carry out a loop in the list\n",
        "similarity_score = list(enumerate(similarity[index_of_the_movie]))\n",
        "print(similarity_score)"
      ],
      "metadata": {
        "id": "ErATmn6Scd_U"
      },
      "execution_count": null,
      "outputs": []
    },
    {
      "cell_type": "code",
      "source": [
        "len(similarity_score)"
      ],
      "metadata": {
        "id": "P27U44fcd72v"
      },
      "execution_count": null,
      "outputs": []
    },
    {
      "cell_type": "code",
      "source": [
        "# To sort the movies based on their similarity score\n",
        "#creates a list of movies having sorted similarity\n",
        "sorted_similar_movies = sorted(similarity_score, key = lambda x:x[1], reverse = True) \n",
        "print(sorted_similar_movies)"
      ],
      "metadata": {
        "id": "Vwp7s1kgeXZ4"
      },
      "execution_count": null,
      "outputs": []
    },
    {
      "cell_type": "code",
      "source": [
        "# print the name of similar movies based on the index\n",
        "#Suggesting 20 movies based on his favourite movie\n",
        "print('Movies Suggested: \\n')\n",
        "i = 1\n",
        "for movie in sorted_similar_movies:\n",
        "  index = movie[0]\n",
        "  title_from_index = movies_data[movies_data.index==index]['title'].values[0]\n",
        "  if (i<20):\n",
        "    print(i, '.',title_from_index)\n",
        "    i+=1"
      ],
      "metadata": {
        "id": "jXX0HKhxe2yQ"
      },
      "execution_count": null,
      "outputs": []
    },
    {
      "cell_type": "markdown",
      "source": [
        "Movie Recommendation"
      ],
      "metadata": {
        "id": "wqIGcHFug0Hs"
      }
    },
    {
      "cell_type": "code",
      "source": [
        "movie_name = input('Enter Your Favourite Movie: ')\n",
        "# batman (for example)\n",
        "list_of_all_movies = movies_data['title'].tolist()\n",
        "\n",
        "close_match = difflib.get_close_matches(movie_name, list_of_all_movies)\n",
        "\n",
        "closest_match = close_match[0]\n",
        "\n",
        "index_of_the_movie = movies_data[movies_data.title == closest_match]['index'].values[0]\n",
        "\n",
        "similarity_score = list(enumerate(similarity[index_of_the_movie]))\n",
        "\n",
        "sorted_similar_movies = sorted(similarity_score, key = lambda x:x[1], reverse = True) \n",
        "\n",
        "print('Movies Suggested: \\n')\n",
        "\n",
        "i = 1\n",
        "for movie in sorted_similar_movies:\n",
        "  index = movie[0]\n",
        "  title_from_index = movies_data[movies_data.index==index]['title'].values[0]\n",
        "  if (i<20):\n",
        "    print(i, '.',title_from_index)\n",
        "    i+=1"
      ],
      "metadata": {
        "id": "KT6Bgia3f3SP"
      },
      "execution_count": null,
      "outputs": []
    },
    {
      "cell_type": "code",
      "source": [
        ""
      ],
      "metadata": {
        "id": "hEs0WR5ghhiX"
      },
      "execution_count": null,
      "outputs": []
    }
  ]
}